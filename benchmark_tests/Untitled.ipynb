{
 "cells": [
  {
   "cell_type": "code",
   "execution_count": 46,
   "metadata": {},
   "outputs": [],
   "source": [
    "import json\n",
    "import pandas as pd\n",
    "\n",
    "with open('resultados_test.txt') as json_file:\n",
    "    datos = json.load(json_file)"
   ]
  },
  {
   "cell_type": "code",
   "execution_count": 47,
   "metadata": {},
   "outputs": [
    {
     "data": {
      "text/plain": [
       "dict_keys(['E-n23-k3', 'E-n22-k4', 'E-n30-k3', 'E-n51-k5', 'E-n76-k7', 'E-n76-k8', 'E-n76-k10', 'E-n76-k14', 'E-n101-k8', 'E-n101-k14', 'M-n200-k16'])"
      ]
     },
     "execution_count": 47,
     "metadata": {},
     "output_type": "execute_result"
    }
   ],
   "source": [
    "datos.keys()"
   ]
  },
  {
   "cell_type": "code",
   "execution_count": 52,
   "metadata": {},
   "outputs": [],
   "source": [
    "data=[]\n",
    "bigger_methods=[]\n",
    "for inst in datos.keys():\n",
    "    inner_list=[inst,datos[inst]['general']['optimal']]\n",
    "    methods=datos[inst]['general']['resultados'].keys()\n",
    "    bigger_methods=methods if len(methods)>len(bigger_methods) else bigger_methods\n",
    "    for method in bigger_methods:\n",
    "        if method in datos[inst]['general']['resultados']:\n",
    "            inner_list+=[datos[inst]['general']['resultados'][method]['cpu_time']]\n",
    "        else:\n",
    "            inner_list+=[None]\n",
    "    data.append(inner_list)\n",
    "df = pd.DataFrame(data,columns=['Problem','Optimal']+list(bigger_methods))"
   ]
  },
  {
   "cell_type": "code",
   "execution_count": 53,
   "metadata": {},
   "outputs": [
    {
     "data": {
      "text/html": [
       "<div>\n",
       "<style scoped>\n",
       "    .dataframe tbody tr th:only-of-type {\n",
       "        vertical-align: middle;\n",
       "    }\n",
       "\n",
       "    .dataframe tbody tr th {\n",
       "        vertical-align: top;\n",
       "    }\n",
       "\n",
       "    .dataframe thead th {\n",
       "        text-align: right;\n",
       "    }\n",
       "</style>\n",
       "<table border=\"1\" class=\"dataframe\">\n",
       "  <thead>\n",
       "    <tr style=\"text-align: right;\">\n",
       "      <th></th>\n",
       "      <th>Problem</th>\n",
       "      <th>Optimal</th>\n",
       "      <th>SAVINGS</th>\n",
       "      <th>CHRISTOFIDES</th>\n",
       "    </tr>\n",
       "  </thead>\n",
       "  <tbody>\n",
       "    <tr>\n",
       "      <th>0</th>\n",
       "      <td>E-n23-k3</td>\n",
       "      <td>569</td>\n",
       "      <td>0.382743</td>\n",
       "      <td>0.231168</td>\n",
       "    </tr>\n",
       "    <tr>\n",
       "      <th>1</th>\n",
       "      <td>E-n22-k4</td>\n",
       "      <td>375</td>\n",
       "      <td>0.151620</td>\n",
       "      <td>0.105434</td>\n",
       "    </tr>\n",
       "    <tr>\n",
       "      <th>2</th>\n",
       "      <td>E-n30-k3</td>\n",
       "      <td>534</td>\n",
       "      <td>0.235044</td>\n",
       "      <td>0.295616</td>\n",
       "    </tr>\n",
       "    <tr>\n",
       "      <th>3</th>\n",
       "      <td>E-n51-k5</td>\n",
       "      <td>521</td>\n",
       "      <td>0.461024</td>\n",
       "      <td>0.634714</td>\n",
       "    </tr>\n",
       "    <tr>\n",
       "      <th>4</th>\n",
       "      <td>E-n76-k7</td>\n",
       "      <td>682</td>\n",
       "      <td>2.406618</td>\n",
       "      <td>3.724685</td>\n",
       "    </tr>\n",
       "    <tr>\n",
       "      <th>5</th>\n",
       "      <td>E-n76-k8</td>\n",
       "      <td>735</td>\n",
       "      <td>2.712799</td>\n",
       "      <td>3.352327</td>\n",
       "    </tr>\n",
       "    <tr>\n",
       "      <th>6</th>\n",
       "      <td>E-n76-k10</td>\n",
       "      <td>830</td>\n",
       "      <td>2.244175</td>\n",
       "      <td>2.226733</td>\n",
       "    </tr>\n",
       "    <tr>\n",
       "      <th>7</th>\n",
       "      <td>E-n76-k14</td>\n",
       "      <td>1021</td>\n",
       "      <td>2.334362</td>\n",
       "      <td>1.707886</td>\n",
       "    </tr>\n",
       "    <tr>\n",
       "      <th>8</th>\n",
       "      <td>E-n101-k8</td>\n",
       "      <td>817</td>\n",
       "      <td>8.302982</td>\n",
       "      <td>3.734374</td>\n",
       "    </tr>\n",
       "    <tr>\n",
       "      <th>9</th>\n",
       "      <td>E-n101-k14</td>\n",
       "      <td>1071</td>\n",
       "      <td>3.551123</td>\n",
       "      <td>4.315620</td>\n",
       "    </tr>\n",
       "    <tr>\n",
       "      <th>10</th>\n",
       "      <td>M-n200-k16</td>\n",
       "      <td>1274</td>\n",
       "      <td>9.595077</td>\n",
       "      <td>20.883941</td>\n",
       "    </tr>\n",
       "  </tbody>\n",
       "</table>\n",
       "</div>"
      ],
      "text/plain": [
       "       Problem  Optimal   SAVINGS  CHRISTOFIDES\n",
       "0     E-n23-k3      569  0.382743      0.231168\n",
       "1     E-n22-k4      375  0.151620      0.105434\n",
       "2     E-n30-k3      534  0.235044      0.295616\n",
       "3     E-n51-k5      521  0.461024      0.634714\n",
       "4     E-n76-k7      682  2.406618      3.724685\n",
       "5     E-n76-k8      735  2.712799      3.352327\n",
       "6    E-n76-k10      830  2.244175      2.226733\n",
       "7    E-n76-k14     1021  2.334362      1.707886\n",
       "8    E-n101-k8      817  8.302982      3.734374\n",
       "9   E-n101-k14     1071  3.551123      4.315620\n",
       "10  M-n200-k16     1274  9.595077     20.883941"
      ]
     },
     "execution_count": 53,
     "metadata": {},
     "output_type": "execute_result"
    }
   ],
   "source": [
    "df"
   ]
  },
  {
   "cell_type": "code",
   "execution_count": 25,
   "metadata": {},
   "outputs": [],
   "source": [
    "#df.to_excel('HEURISTICS_solutions.xlsx')"
   ]
  },
  {
   "cell_type": "code",
   "execution_count": 54,
   "metadata": {},
   "outputs": [],
   "source": [
    "df.to_excel('times_heuristics.xlsx')"
   ]
  },
  {
   "cell_type": "code",
   "execution_count": null,
   "metadata": {},
   "outputs": [],
   "source": []
  }
 ],
 "metadata": {
  "kernelspec": {
   "display_name": "Python 3",
   "language": "python",
   "name": "python3"
  },
  "language_info": {
   "codemirror_mode": {
    "name": "ipython",
    "version": 3
   },
   "file_extension": ".py",
   "mimetype": "text/x-python",
   "name": "python",
   "nbconvert_exporter": "python",
   "pygments_lexer": "ipython3",
   "version": "3.7.3"
  }
 },
 "nbformat": 4,
 "nbformat_minor": 2
}
